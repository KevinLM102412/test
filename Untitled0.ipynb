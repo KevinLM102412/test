{
  "nbformat": 4,
  "nbformat_minor": 0,
  "metadata": {
    "colab": {
      "provenance": []
    },
    "kernelspec": {
      "name": "python3",
      "display_name": "Python 3"
    },
    "language_info": {
      "name": "python"
    }
  },
  "cells": [
    {
      "cell_type": "code",
      "execution_count": 1,
      "metadata": {
        "colab": {
          "base_uri": "https://localhost:8080/"
        },
        "id": "6q7Hd20BYAfF",
        "outputId": "203d47b9-4bf1-4132-8b76-075b0d8865b9"
      },
      "outputs": [
        {
          "output_type": "stream",
          "name": "stdout",
          "text": [
            "una monda\n"
          ]
        }
      ],
      "source": [
        "print(\"una monda\")"
      ]
    },
    {
      "cell_type": "markdown",
      "source": [
        "Sea $\\epsilon>0$"
      ],
      "metadata": {
        "id": "5InLkFmtYHAF"
      }
    }
  ]
}