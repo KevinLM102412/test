{
  "nbformat": 4,
  "nbformat_minor": 0,
  "metadata": {
    "colab": {
      "provenance": []
    },
    "kernelspec": {
      "name": "python3",
      "display_name": "Python 3"
    },
    "language_info": {
      "name": "python"
    }
  },
  "cells": [
    {
      "cell_type": "markdown",
      "source": [
        "# Tarea 1\n",
        "## Miembros:\n",
        "* Kevin Andrés Marulanda Durán\n",
        "* Samuel Restrepo Aguilar\n",
        "* Yeison Estiben Botero Rivera\n",
        "* Juan Esteban Osorner"
      ],
      "metadata": {
        "id": "Pq3DxU3aquj2"
      }
    },
    {
      "cell_type": "markdown",
      "source": [
        "First Method Analysis.\n",
        "\n",
        "The Characteristic Polynomial Method\n",
        "The characteristic polynomial of a matrix A is defined as\n",
        "det(A − λI) = 0,\n",
        "where I is the identity matrix. The (real) roots of this polynomial are the eigenvalues of A. To\n",
        "find the eigenvectors, each eigenvalue λ can be substituted back into (A − λI)x = 0 to solve for\n",
        "the corresponding eigenvector x. This method requires solving a polynomial equation, which can be\n",
        "computationally challenging for large matrices."
      ],
      "metadata": {
        "id": "vEGBwJmVtmMd"
      }
    },
    {
      "cell_type": "markdown",
      "source": [
        "## Theory\n",
        "We ment to solve this problem with the"
      ],
      "metadata": {
        "id": "9SMpFkTuvXmx"
      }
    },
    {
      "cell_type": "code",
      "source": [],
      "metadata": {
        "id": "rT3dU-FnvXVD"
      },
      "execution_count": null,
      "outputs": []
    },
    {
      "cell_type": "code",
      "execution_count": 12,
      "metadata": {
        "colab": {
          "base_uri": "https://localhost:8080/"
        },
        "id": "6q7Hd20BYAfF",
        "outputId": "3f530ec3-6cac-40e2-c1f3-a502bdab0af6"
      },
      "outputs": [
        {
          "output_type": "stream",
          "name": "stdout",
          "text": [
            "-17.0\n"
          ]
        }
      ],
      "source": [
        "import numpy as np\n",
        "list = [[1,2,3],[4,7,2], [4,6,9]]\n",
        "A = np.array(list, dtype=int)\n",
        "print(np.linalg.det(A))"
      ]
    },
    {
      "cell_type": "markdown",
      "source": [
        "Sea $\\epsilon>0$"
      ],
      "metadata": {
        "id": "5InLkFmtYHAF"
      }
    }
  ]
}